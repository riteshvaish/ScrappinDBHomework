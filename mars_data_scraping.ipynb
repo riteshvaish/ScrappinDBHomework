{
 "cells": [
  {
   "cell_type": "code",
   "execution_count": 1,
   "metadata": {},
   "outputs": [],
   "source": [
    "# Dependencies\n",
    "from splinter import Browser\n",
    "from bs4 import BeautifulSoup as bs\n",
    "import requests"
   ]
  },
  {
   "cell_type": "code",
   "execution_count": 2,
   "metadata": {},
   "outputs": [],
   "source": [
    "#!which chromedriver"
   ]
  },
  {
   "cell_type": "code",
   "execution_count": 3,
   "metadata": {},
   "outputs": [],
   "source": [
    "#pointing to the directory where chromedriver exists\n",
    "executable_path = {'executable_path': '/usr/local/bin/chromedriver'}\n",
    "browser = Browser('chrome', **executable_path, headless=False)\n",
    "# create mars_data dict to collect all the values\n",
    "mars_data = {}"
   ]
  },
  {
   "cell_type": "markdown",
   "metadata": {},
   "source": [
    "# Scrapping NASA Mars News"
   ]
  },
  {
   "cell_type": "code",
   "execution_count": 4,
   "metadata": {},
   "outputs": [],
   "source": [
    "# URL of page to be scraped\n",
    "newsurl = 'https://mars.nasa.gov/news/'\n",
    "browser.visit(newsurl)"
   ]
  },
  {
   "cell_type": "code",
   "execution_count": 5,
   "metadata": {},
   "outputs": [],
   "source": [
    "html = browser.html\n",
    "news_soup = bs(html,\"html.parser\")"
   ]
  },
  {
   "cell_type": "code",
   "execution_count": 6,
   "metadata": {},
   "outputs": [],
   "source": [
    "# find the latest news\n",
    "news_title = news_soup.find('div', class_='content_title').text\n",
    "news_p= news_soup.find('div', class_='article_teaser_body').text\n",
    "mars_data[\"news_title\"] = news_title\n",
    "mars_data[\"news_p\"] = news_p"
   ]
  },
  {
   "cell_type": "code",
   "execution_count": 7,
   "metadata": {},
   "outputs": [
    {
     "name": "stdout",
     "output_type": "stream",
     "text": [
      "{'news_title': \"NASA's MRO Completes 60,000 Trips Around Mars\", 'news_p': 'The orbiting spacecraft is also about to set a record for data relayed from the Martian surface.'}\n"
     ]
    }
   ],
   "source": [
    "\n",
    "print(mars_data)\n"
   ]
  },
  {
   "cell_type": "markdown",
   "metadata": {},
   "source": [
    "# Scrapping Mars Space Images - Featured Image"
   ]
  },
  {
   "cell_type": "code",
   "execution_count": 8,
   "metadata": {},
   "outputs": [],
   "source": [
    "#Using splinter get the big image\n",
    "base_url = \"https:/www.jpl.nasa.gov/\"\n",
    "images_url = \"https://www.jpl.nasa.gov/spaceimages/?search=&category=Mars\"\n",
    "browser.visit(images_url)\n",
    "html = browser.html\n",
    "image_soup = bs(html,\"html.parser\")"
   ]
  },
  {
   "cell_type": "code",
   "execution_count": 9,
   "metadata": {},
   "outputs": [],
   "source": [
    "featured_image  = image_soup.find('article')['style'].replace('background-image: url(','').replace(');', '')[1:-1]"
   ]
  },
  {
   "cell_type": "code",
   "execution_count": 10,
   "metadata": {},
   "outputs": [
    {
     "name": "stdout",
     "output_type": "stream",
     "text": [
      "https:/www.jpl.nasa.gov//spaceimages/images/wallpaper/PIA17767-1920x1200.jpg\n"
     ]
    }
   ],
   "source": [
    "featured_image_url = base_url + featured_image\n",
    "print(featured_image_url)\n",
    "mars_data['featured_image_url']=featured_image_url"
   ]
  },
  {
   "cell_type": "code",
   "execution_count": 11,
   "metadata": {},
   "outputs": [
    {
     "data": {
      "text/plain": [
       "{'news_title': \"NASA's MRO Completes 60,000 Trips Around Mars\",\n",
       " 'news_p': 'The orbiting spacecraft is also about to set a record for data relayed from the Martian surface.',\n",
       " 'featured_image_url': 'https:/www.jpl.nasa.gov//spaceimages/images/wallpaper/PIA17767-1920x1200.jpg'}"
      ]
     },
     "execution_count": 11,
     "metadata": {},
     "output_type": "execute_result"
    }
   ],
   "source": [
    "mars_data"
   ]
  },
  {
   "cell_type": "markdown",
   "metadata": {},
   "source": [
    "# Scrapping Mars Weather"
   ]
  },
  {
   "cell_type": "code",
   "execution_count": 12,
   "metadata": {},
   "outputs": [],
   "source": [
    "weather_url= 'https://twitter.com/marswxreport?lang=en'"
   ]
  },
  {
   "cell_type": "code",
   "execution_count": 13,
   "metadata": {},
   "outputs": [],
   "source": [
    "response = requests.get(weather_url)\n",
    "soup = bs(response.text, 'lxml')\n",
    "mars_weather_temp = soup.find('div', class_='js-tweet-text-container').find(\"a\").text\n",
    "mars_weather = soup.find('div', class_='js-tweet-text-container').text.replace(mars_weather_temp,\"\")\n",
    "mars_data['mars_weather']=mars_weather"
   ]
  },
  {
   "cell_type": "code",
   "execution_count": 14,
   "metadata": {},
   "outputs": [
    {
     "name": "stdout",
     "output_type": "stream",
     "text": [
      "{'news_title': \"NASA's MRO Completes 60,000 Trips Around Mars\", 'news_p': 'The orbiting spacecraft is also about to set a record for data relayed from the Martian surface.', 'featured_image_url': 'https:/www.jpl.nasa.gov//spaceimages/images/wallpaper/PIA17767-1920x1200.jpg', 'mars_weather': \"\\nCongratulations to our orbiting companion! \\n's MRO Completes 60,000 Trips Around #Mars: https://go.nasa.gov/2w0c36K\\xa0.pic.twitter.com/Q0jtKuxBK5\\n\"}\n"
     ]
    }
   ],
   "source": [
    "print(mars_data)"
   ]
  },
  {
   "cell_type": "markdown",
   "metadata": {},
   "source": [
    "# Collecting Mars Facts"
   ]
  },
  {
   "cell_type": "code",
   "execution_count": 15,
   "metadata": {},
   "outputs": [],
   "source": [
    "marsfact_url = 'https://space-facts.com/mars'"
   ]
  },
  {
   "cell_type": "code",
   "execution_count": 16,
   "metadata": {},
   "outputs": [],
   "source": [
    "response = requests.get(marsfact_url)\n",
    "soup = bs(response.text, 'lxml')\n",
    "facts_table = soup.find('table', class_='tablepress tablepress-id-mars').text\n",
    "mars_data['facts_table']=facts_table"
   ]
  },
  {
   "cell_type": "code",
   "execution_count": 17,
   "metadata": {},
   "outputs": [
    {
     "name": "stdout",
     "output_type": "stream",
     "text": [
      "{'news_title': \"NASA's MRO Completes 60,000 Trips Around Mars\", 'news_p': 'The orbiting spacecraft is also about to set a record for data relayed from the Martian surface.', 'featured_image_url': 'https:/www.jpl.nasa.gov//spaceimages/images/wallpaper/PIA17767-1920x1200.jpg', 'mars_weather': \"\\nCongratulations to our orbiting companion! \\n's MRO Completes 60,000 Trips Around #Mars: https://go.nasa.gov/2w0c36K\\xa0.pic.twitter.com/Q0jtKuxBK5\\n\", 'facts_table': '\\n\\n\\nEquatorial Diameter:6,792 km\\n\\n\\n\\nPolar Diameter:6,752 km\\n\\n\\n\\nMass:6.42 x 10^23 kg (10.7% Earth)\\n\\n\\nMoons:2 (Phobos & Deimos)\\n\\n\\nOrbit Distance:227,943,824 km (1.52 AU)\\n\\n\\nOrbit Period:687 days (1.9 years)\\n\\n\\n\\nSurface Temperature: -153 to 20 °C\\n\\n\\nFirst Record:2nd millennium BC\\n\\n\\nRecorded By:Egyptian astronomers\\n\\n\\n'}\n"
     ]
    }
   ],
   "source": [
    "print((mars_data))"
   ]
  },
  {
   "cell_type": "markdown",
   "metadata": {},
   "source": [
    "# Collecting Mars Hemispheres data "
   ]
  },
  {
   "cell_type": "code",
   "execution_count": 18,
   "metadata": {},
   "outputs": [],
   "source": [
    "hemesphere_url = \"https://astrogeology.usgs.gov/search/results?q=hemisphere+enhanced&k1=target&v1=Mars\"\n",
    "base_url = \"https://astrogeology.usgs.gov\""
   ]
  },
  {
   "cell_type": "code",
   "execution_count": 19,
   "metadata": {},
   "outputs": [],
   "source": [
    "response = requests.get(hemesphere_url)\n",
    "soup = bs(response.text, 'lxml')\n",
    "result_set_url = soup.find_all('a', class_='itemLink product-item')\n",
    "result_set_titles = soup.find_all('h3')\n"
   ]
  },
  {
   "cell_type": "code",
   "execution_count": 20,
   "metadata": {},
   "outputs": [],
   "source": [
    "#print(result_set_url)"
   ]
  },
  {
   "cell_type": "code",
   "execution_count": 21,
   "metadata": {},
   "outputs": [],
   "source": [
    "#result_set_url = base_url+soup.find('a', class_='itemLink product-item')['href']"
   ]
  },
  {
   "cell_type": "code",
   "execution_count": 22,
   "metadata": {},
   "outputs": [],
   "source": [
    "#print(result_set_url)"
   ]
  },
  {
   "cell_type": "code",
   "execution_count": 23,
   "metadata": {},
   "outputs": [],
   "source": [
    "#response = requests.get(result_set_url)\n",
    "#soup = bs(response.text, 'lxml')\n",
    "#result_set_url = base_url+soup.find('img', class_='wide-image')['src']"
   ]
  },
  {
   "cell_type": "code",
   "execution_count": 24,
   "metadata": {},
   "outputs": [],
   "source": [
    "#print(result_set_url)"
   ]
  },
  {
   "cell_type": "code",
   "execution_count": 25,
   "metadata": {},
   "outputs": [
    {
     "name": "stdout",
     "output_type": "stream",
     "text": [
      "Cerberus Hemisphere Enhanced\n",
      "https://astrogeology.usgs.gov/cache/images/cfa62af2557222a02478f1fcd781d445_cerberus_enhanced.tif_full.jpg\n",
      "Schiaparelli Hemisphere Enhanced\n",
      "https://astrogeology.usgs.gov/cache/images/3cdd1cbf5e0813bba925c9030d13b62e_schiaparelli_enhanced.tif_full.jpg\n",
      "Syrtis Major Hemisphere Enhanced\n",
      "https://astrogeology.usgs.gov/cache/images/ae209b4e408bb6c3e67b6af38168cf28_syrtis_major_enhanced.tif_full.jpg\n",
      "Valles Marineris Hemisphere Enhanced\n",
      "https://astrogeology.usgs.gov/cache/images/7cf2da4bf549ed01c17f206327be4db7_valles_marineris_enhanced.tif_full.jpg\n"
     ]
    }
   ],
   "source": [
    "hemisphere_image_urls = []\n",
    "\n",
    "for i in range(len(result_set_url)):\n",
    "    target_url_1 = result_set_url[i]\n",
    "    target_url_2 = target_url_1['href']\n",
    "    target_url_full = base_url+target_url_2\n",
    "    #print(target_url_full)\n",
    "    response = requests.get(target_url_full)\n",
    "    soup = bs(response.text, 'lxml')\n",
    "    result_set_url_4 = soup.find('img', class_='wide-image')['src']\n",
    "    result_set_url_5=base_url+result_set_url_4\n",
    "    title=result_set_titles[i].text\n",
    "    print(title)\n",
    "    print(result_set_url_5)\n",
    "    hemisphere_image_urls.append({'title' : title, 'img_url' : result_set_url_5})\n",
    "\n"
   ]
  },
  {
   "cell_type": "code",
   "execution_count": 26,
   "metadata": {},
   "outputs": [
    {
     "name": "stdout",
     "output_type": "stream",
     "text": [
      "[{'title': 'Cerberus Hemisphere Enhanced', 'img_url': 'https://astrogeology.usgs.gov/cache/images/cfa62af2557222a02478f1fcd781d445_cerberus_enhanced.tif_full.jpg'}, {'title': 'Schiaparelli Hemisphere Enhanced', 'img_url': 'https://astrogeology.usgs.gov/cache/images/3cdd1cbf5e0813bba925c9030d13b62e_schiaparelli_enhanced.tif_full.jpg'}, {'title': 'Syrtis Major Hemisphere Enhanced', 'img_url': 'https://astrogeology.usgs.gov/cache/images/ae209b4e408bb6c3e67b6af38168cf28_syrtis_major_enhanced.tif_full.jpg'}, {'title': 'Valles Marineris Hemisphere Enhanced', 'img_url': 'https://astrogeology.usgs.gov/cache/images/7cf2da4bf549ed01c17f206327be4db7_valles_marineris_enhanced.tif_full.jpg'}]\n"
     ]
    }
   ],
   "source": [
    "print(hemisphere_image_urls)"
   ]
  },
  {
   "cell_type": "code",
   "execution_count": 27,
   "metadata": {},
   "outputs": [
    {
     "name": "stdout",
     "output_type": "stream",
     "text": [
      "{'news_title': \"NASA's MRO Completes 60,000 Trips Around Mars\", 'news_p': 'The orbiting spacecraft is also about to set a record for data relayed from the Martian surface.', 'featured_image_url': 'https:/www.jpl.nasa.gov//spaceimages/images/wallpaper/PIA17767-1920x1200.jpg', 'mars_weather': \"\\nCongratulations to our orbiting companion! \\n's MRO Completes 60,000 Trips Around #Mars: https://go.nasa.gov/2w0c36K\\xa0.pic.twitter.com/Q0jtKuxBK5\\n\", 'facts_table': '\\n\\n\\nEquatorial Diameter:6,792 km\\n\\n\\n\\nPolar Diameter:6,752 km\\n\\n\\n\\nMass:6.42 x 10^23 kg (10.7% Earth)\\n\\n\\nMoons:2 (Phobos & Deimos)\\n\\n\\nOrbit Distance:227,943,824 km (1.52 AU)\\n\\n\\nOrbit Period:687 days (1.9 years)\\n\\n\\n\\nSurface Temperature: -153 to 20 °C\\n\\n\\nFirst Record:2nd millennium BC\\n\\n\\nRecorded By:Egyptian astronomers\\n\\n\\n', 'hemisphere_image_urls': [{'title': 'Cerberus Hemisphere Enhanced', 'img_url': 'https://astrogeology.usgs.gov/cache/images/cfa62af2557222a02478f1fcd781d445_cerberus_enhanced.tif_full.jpg'}, {'title': 'Schiaparelli Hemisphere Enhanced', 'img_url': 'https://astrogeology.usgs.gov/cache/images/3cdd1cbf5e0813bba925c9030d13b62e_schiaparelli_enhanced.tif_full.jpg'}, {'title': 'Syrtis Major Hemisphere Enhanced', 'img_url': 'https://astrogeology.usgs.gov/cache/images/ae209b4e408bb6c3e67b6af38168cf28_syrtis_major_enhanced.tif_full.jpg'}, {'title': 'Valles Marineris Hemisphere Enhanced', 'img_url': 'https://astrogeology.usgs.gov/cache/images/7cf2da4bf549ed01c17f206327be4db7_valles_marineris_enhanced.tif_full.jpg'}]}\n"
     ]
    }
   ],
   "source": [
    "mars_data['hemisphere_image_urls']=hemisphere_image_urls\n",
    "print(mars_data)"
   ]
  },
  {
   "cell_type": "code",
   "execution_count": 28,
   "metadata": {},
   "outputs": [
    {
     "name": "stdout",
     "output_type": "stream",
     "text": [
      "[{'title': 'Cerberus Hemisphere Enhanced', 'img_url': 'https://astrogeology.usgs.gov/cache/images/cfa62af2557222a02478f1fcd781d445_cerberus_enhanced.tif_full.jpg'}, {'title': 'Schiaparelli Hemisphere Enhanced', 'img_url': 'https://astrogeology.usgs.gov/cache/images/3cdd1cbf5e0813bba925c9030d13b62e_schiaparelli_enhanced.tif_full.jpg'}, {'title': 'Syrtis Major Hemisphere Enhanced', 'img_url': 'https://astrogeology.usgs.gov/cache/images/ae209b4e408bb6c3e67b6af38168cf28_syrtis_major_enhanced.tif_full.jpg'}, {'title': 'Valles Marineris Hemisphere Enhanced', 'img_url': 'https://astrogeology.usgs.gov/cache/images/7cf2da4bf549ed01c17f206327be4db7_valles_marineris_enhanced.tif_full.jpg'}]\n"
     ]
    }
   ],
   "source": [
    "print(mars_data['hemisphere_image_urls'])"
   ]
  },
  {
   "cell_type": "markdown",
   "metadata": {},
   "source": [
    "# Using  MongoDB and Flask Application"
   ]
  },
  {
   "cell_type": "code",
   "execution_count": null,
   "metadata": {},
   "outputs": [],
   "source": []
  }
 ],
 "metadata": {
  "kernelspec": {
   "display_name": "Python 3",
   "language": "python",
   "name": "python3"
  },
  "language_info": {
   "codemirror_mode": {
    "name": "ipython",
    "version": 3
   },
   "file_extension": ".py",
   "mimetype": "text/x-python",
   "name": "python",
   "nbconvert_exporter": "python",
   "pygments_lexer": "ipython3",
   "version": "3.7.1"
  }
 },
 "nbformat": 4,
 "nbformat_minor": 2
}
